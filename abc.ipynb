{
  "nbformat": 4,
  "nbformat_minor": 0,
  "metadata": {
    "colab": {
      "provenance": [],
      "authorship_tag": "ABX9TyOtAgMezk71YYc24FrQvF3I",
      "include_colab_link": true
    },
    "kernelspec": {
      "name": "python3",
      "display_name": "Python 3"
    },
    "language_info": {
      "name": "python"
    }
  },
  "cells": [
    {
      "cell_type": "markdown",
      "metadata": {
        "id": "view-in-github",
        "colab_type": "text"
      },
      "source": [
        "<a href=\"https://colab.research.google.com/github/sania27-12/sania27-12/blob/main/abc.ipynb\" target=\"_parent\"><img src=\"https://colab.research.google.com/assets/colab-badge.svg\" alt=\"Open In Colab\"/></a>"
      ]
    },
    {
      "cell_type": "markdown",
      "source": [
        "job_sequencing"
      ],
      "metadata": {
        "id": "PO93fu_2R1eY"
      }
    },
    {
      "cell_type": "code",
      "execution_count": null,
      "metadata": {
        "colab": {
          "base_uri": "https://localhost:8080/"
        },
        "id": "OmsyTZ5TRKOB",
        "outputId": "e7fc8346-fe41-49a5-d0a6-1966dcd0a73d"
      },
      "outputs": [
        {
          "output_type": "stream",
          "name": "stdout",
          "text": [
            "Selected Jobs: ['A', 'D']\n",
            "Max Profit: 160\n"
          ]
        }
      ],
      "source": [
        "def job_sequencing(jobs):\n",
        "    jobs.sort(key=lambda x: -x[1])\n",
        "    max_deadline = max(job[0] for job in jobs)\n",
        "    slots = [0] * (max_deadline + 1)\n",
        "    total_profit, selected_jobs = 0, []\n",
        "\n",
        "    for d, p, n in jobs:\n",
        "        for i in range(d, 0, -1):\n",
        "            if not slots[i]:\n",
        "                slots[i] = n\n",
        "                selected_jobs.append(n)\n",
        "                total_profit += p\n",
        "                break\n",
        "\n",
        "    return selected_jobs, total_profit\n",
        "\n",
        "jobs = [(2, 100, 'A'), (1, 20, 'B'), (2, 10, 'C'), (1, 60, 'D')]\n",
        "selected, profit = job_sequencing(jobs)\n",
        "print(\"Selected Jobs:\", selected)\n",
        "print(\"Max Profit:\", profit)\n"
      ]
    },
    {
      "cell_type": "markdown",
      "source": [
        " fractional_knapsack"
      ],
      "metadata": {
        "id": "ueyoE3pCRwaK"
      }
    },
    {
      "cell_type": "code",
      "source": [
        "def fractional_knapsack(items, capacity):\n",
        "    items.sort(key=lambda x: x[1] / x[0], reverse=True)\n",
        "    total_profit, selected_items = 0, []\n",
        "    remaining_capacity = capacity\n",
        "\n",
        "    for weight, profit, name in items:\n",
        "        if remaining_capacity >= weight:\n",
        "            total_profit += profit\n",
        "            remaining_capacity -= weight\n",
        "            selected_items.append((name, 1))  # Fully selected\n",
        "        else:\n",
        "            fraction = remaining_capacity / weight\n",
        "            total_profit += profit * fraction\n",
        "            selected_items.append((name, round(fraction, 2)))  # Partially selected\n",
        "            break  # Knapsack is full\n",
        "\n",
        "    return selected_items, total_profit\n",
        "\n",
        "items = [(2, 10, 'A'), (3, 5, 'B'), (5, 15, 'C'), (7, 7, 'D'), (1, 6, 'E'), (4, 18, 'F'), (1, 3, 'G')]\n",
        "capacity = 15\n",
        "\n",
        "selected, max_profit = fractional_knapsack(items, capacity)\n",
        "\n",
        "print(\"Selected Items:\", selected)\n",
        "print(\"Maximum Profit:\", max_profit)\n"
      ],
      "metadata": {
        "colab": {
          "base_uri": "https://localhost:8080/"
        },
        "id": "RgIGBidOR7Uc",
        "outputId": "8c74e5a8-5150-4843-ac55-1dc608d913db"
      },
      "execution_count": null,
      "outputs": [
        {
          "output_type": "stream",
          "name": "stdout",
          "text": [
            "Selected Items: [('E', 1), ('A', 1), ('F', 1), ('C', 1), ('G', 1), ('B', 0.67)]\n",
            "Maximum Profit: 55.333333333333336\n"
          ]
        }
      ]
    },
    {
      "cell_type": "markdown",
      "source": [
        "knapsack_01(Dynamic)"
      ],
      "metadata": {
        "id": "F6n0MVlbT6Yj"
      }
    },
    {
      "cell_type": "code",
      "source": [
        "def knapsack_01(items, capacity):\n",
        "    n = len(items)\n",
        "    dp = [[0] * (capacity + 1) for _ in range(n + 1)]\n",
        "\n",
        "    for i in range(1, n + 1):\n",
        "        w, p, name = items[i - 1]\n",
        "        for c in range(capacity + 1):\n",
        "            dp[i][c] = dp[i - 1][c]\n",
        "            if w <= c:\n",
        "                dp[i][c] = max(dp[i][c], p + dp[i - 1][c - w])\n",
        "\n",
        "    selected_items, c = [], capacity\n",
        "    for i in range(n, 0, -1):\n",
        "        if dp[i][c] != dp[i - 1][c]:\n",
        "            selected_items.append(items[i - 1][2])\n",
        "            c -= items[i - 1][0]\n",
        "\n",
        "    return selected_items, dp[n][capacity]\n",
        "\n",
        "items = [(3, 2, 'A'), (4, 3, 'B'), (5, 4, 'C'), (6, 1, 'D')]\n",
        "capacity = 8\n",
        "\n",
        "selected, max_profit = knapsack_01(items, capacity)\n",
        "print(\"Selected Items:\", selected)\n",
        "print(\"Maximum Profit:\", max_profit)\n"
      ],
      "metadata": {
        "colab": {
          "base_uri": "https://localhost:8080/"
        },
        "id": "kaWlMlWTT-hY",
        "outputId": "38f1a920-015c-4764-ed29-60ede13445c6"
      },
      "execution_count": null,
      "outputs": [
        {
          "output_type": "stream",
          "name": "stdout",
          "text": [
            "Selected Items: ['C', 'A']\n",
            "Maximum Profit: 6\n"
          ]
        }
      ]
    },
    {
      "cell_type": "markdown",
      "source": [
        "LONGEST COMMAN SUBSEQUENCE"
      ],
      "metadata": {
        "id": "fGGKlxNBU1Ge"
      }
    },
    {
      "cell_type": "code",
      "source": [
        "def lcs(x, y):\n",
        "    m, n = len(x), len(y)\n",
        "    dp = [[0] * (n + 1) for _ in range(m + 1)]\n",
        "\n",
        "    for i in range(1, m + 1):\n",
        "        for j in range(1, n + 1):\n",
        "            dp[i][j] = (dp[i - 1][j - 1] + 1 if x[i - 1] == y[j - 1]\n",
        "                        else max(dp[i - 1][j], dp[i][j - 1]))\n",
        "\n",
        "    print(\"DP Table:\")\n",
        "    for row in dp:\n",
        "        print(row)\n",
        "\n",
        "    lcs_seq, i, j = [], m, n\n",
        "    while i > 0 and j > 0:\n",
        "        if x[i - 1] == y[j - 1]:\n",
        "            lcs_seq.append(x[i - 1])\n",
        "            i, j = i - 1, j - 1\n",
        "        elif dp[i - 1][j] > dp[i][j - 1]:\n",
        "            i -= 1\n",
        "        else:\n",
        "            j -= 1\n",
        "\n",
        "    return lcs_seq[::-1]\n",
        "\n",
        "X = ['a', 'b', 'e', 'f', 'c']\n",
        "Y = ['b', 'e', 'f', 'e', 'c']\n",
        "print(\"LCS:\", \"\".join(lcs(X, Y)))\n",
        "\n"
      ],
      "metadata": {
        "colab": {
          "base_uri": "https://localhost:8080/"
        },
        "id": "KExh5CAyU5yB",
        "outputId": "052320f2-f829-42e4-b19f-39fa0a09f33c"
      },
      "execution_count": null,
      "outputs": [
        {
          "output_type": "stream",
          "name": "stdout",
          "text": [
            "DP Table:\n",
            "[0, 0, 0, 0, 0, 0]\n",
            "[0, 0, 0, 0, 0, 0]\n",
            "[0, 1, 1, 1, 1, 1]\n",
            "[0, 1, 2, 2, 2, 2]\n",
            "[0, 1, 2, 3, 3, 3]\n",
            "[0, 1, 2, 3, 3, 4]\n",
            "LCS: befc\n"
          ]
        }
      ]
    },
    {
      "cell_type": "code",
      "source": [
        "def activity_selection(activities):\n",
        "    activities.sort(key=lambda x: x[1])\n",
        "\n",
        "    selected_activities = []\n",
        "    selected_activities.append(activities[0])\n",
        "    last_finish_time = activities[0][1]\n",
        "\n",
        "    for i in range(1, len(activities)):\n",
        "        if activities[i][0] >= last_finish_time:\n",
        "            selected_activities.append(activities[i])\n",
        "            last_finish_time = activities[i][1]\n",
        "    return selected_activities\n",
        "\n",
        "\n",
        "activities = [(1, 4, 'A'), (3, 5, 'B'), (0, 6, 'C'), (5, 7, 'D'), (3, 9, 'E'), (2, 14, 'F'), (12, 16, 'G')]\n",
        "selected_activities = activity_selection(activities)\n",
        "\n",
        "print(\"Selected Activities:\")\n",
        "for activity in selected_activities:\n",
        "    print(activity[2], end=\" \")\n"
      ],
      "metadata": {
        "id": "SP_ehqizu1CI",
        "colab": {
          "base_uri": "https://localhost:8080/"
        },
        "outputId": "82f9e7ba-4a89-4cba-c671-93cd3af4845d"
      },
      "execution_count": null,
      "outputs": [
        {
          "output_type": "stream",
          "name": "stdout",
          "text": [
            "Selected Activities:\n",
            "A D G "
          ]
        }
      ]
    },
    {
      "cell_type": "markdown",
      "source": [
        "# **LCS**"
      ],
      "metadata": {
        "id": "juIlDtqHmWSS"
      }
    },
    {
      "cell_type": "code",
      "source": [
        "def lcs(X, Y):\n",
        "    m, n = len(X), len(Y)\n",
        "    dp = [[\"0\"] * (n + 1) for _ in range(m + 1)]\n",
        "\n",
        "    for i in range(1, m + 1):\n",
        "        for j in range(1, n + 1):\n",
        "            if X[i - 1] == Y[j - 1]:\n",
        "                dp[i][j] = str(int(dp[i - 1][j - 1][0]) + 1) + \"↖\"\n",
        "            elif int(dp[i - 1][j][0]) >= int(dp[i][j - 1][0]):\n",
        "                dp[i][j] = dp[i - 1][j][0] + \"↑\"\n",
        "            else:\n",
        "                dp[i][j] = dp[i][j - 1][0] + \"←\"\n",
        "\n",
        "    lcs_result = []\n",
        "    i, j = m, n\n",
        "    while i > 0 and j > 0:\n",
        "        if \"↖\" in dp[i][j]:\n",
        "            lcs_result.append(X[i - 1])\n",
        "            i -= 1\n",
        "            j -= 1\n",
        "        elif \"↑\" in dp[i][j]:\n",
        "            i -= 1\n",
        "        else:\n",
        "            j -= 1\n",
        "\n",
        "    lcs_result.reverse()\n",
        "\n",
        "    print(\"\\nDP Table with Arrows:\")\n",
        "    for row in dp:\n",
        "        print(row)\n",
        "\n",
        "    return \"\".join(lcs_result), int(dp[m][n][0])\n",
        "\n",
        "\n",
        "X = ['a', 'b', 'e', 'f', 'c']\n",
        "Y = ['b', 'e', 'f', 'e', 'c']\n",
        "lcs_string, lcs_length = lcs(X, Y)\n",
        "print(f\"\\nLongest Common Subsequence: {lcs_string}\")\n",
        "print(f\"LCS Length: {lcs_length}\")"
      ],
      "metadata": {
        "colab": {
          "base_uri": "https://localhost:8080/"
        },
        "id": "ivrQhHdmUUSX",
        "outputId": "a836849c-d778-45a5-f988-8d58c720aa85"
      },
      "execution_count": null,
      "outputs": [
        {
          "output_type": "stream",
          "name": "stdout",
          "text": [
            "\n",
            "DP Table with Arrows:\n",
            "['0', '0', '0', '0', '0', '0']\n",
            "['0', '0↑', '0↑', '0↑', '0↑', '0↑']\n",
            "['0', '1↖', '1←', '1←', '1←', '1←']\n",
            "['0', '1↑', '2↖', '2←', '2↖', '2←']\n",
            "['0', '1↑', '2↑', '3↖', '3←', '3←']\n",
            "['0', '1↑', '2↑', '3↑', '3↑', '4↖']\n",
            "\n",
            "Longest Common Subsequence: befc\n",
            "LCS Length: 4\n"
          ]
        }
      ]
    },
    {
      "cell_type": "markdown",
      "source": [
        "**ROD CUTTING**"
      ],
      "metadata": {
        "id": "kaK0yio8mcoJ"
      }
    },
    {
      "cell_type": "code",
      "source": [
        "import numpy as np\n",
        "\n",
        "def rod_cutting(rod, n):\n",
        "    dp = np.zeros((n + 1), dtype=int)\n",
        "    selected_pieces = [\"\"] * (n + 1)\n",
        "\n",
        "\n",
        "    dp_table = np.zeros((n + 1, n + 1), dtype=int)\n",
        "\n",
        "    for i in range(1, n + 1):\n",
        "        max_val = 0\n",
        "        best_cut = \"\"\n",
        "        for j in range(i):\n",
        "            if rod[j][1] + dp[i - j - 1] > max_val:\n",
        "                max_val = rod[j][1] + dp[i - j - 1]\n",
        "                best_cut = selected_pieces[i - j - 1] + rod[j][2] + \" \"\n",
        "        dp[i] = max_val\n",
        "        selected_pieces[i] = best_cut\n",
        "\n",
        "\n",
        "        dp_table[i] = dp\n",
        "\n",
        "\n",
        "    print(\"\\nDP Table:\")\n",
        "    for row in dp_table:\n",
        "        print(\"\\t\".join(map(str, row)))\n",
        "\n",
        "    print(\"Selected Rod Pieces:\", selected_pieces[n].strip())\n",
        "    return dp[n]\n",
        "\n",
        "rod = [(1, 1, 'A'), (2, 5, 'B'), (3, 8, 'C'), (4, 9, 'D'), (5, 10, 'E')]\n",
        "n = 5\n",
        "max_profit = rod_cutting(rod, n)\n",
        "print(\"Maximum Profit:\", max_profit)\n"
      ],
      "metadata": {
        "colab": {
          "base_uri": "https://localhost:8080/"
        },
        "id": "tF00MgYumgUa",
        "outputId": "8e3adec4-9787-4dee-9b04-cb529eb6bdd1"
      },
      "execution_count": null,
      "outputs": [
        {
          "output_type": "stream",
          "name": "stdout",
          "text": [
            "\n",
            "DP Table:\n",
            "0\t0\t0\t0\t0\t0\n",
            "0\t1\t0\t0\t0\t0\n",
            "0\t1\t5\t0\t0\t0\n",
            "0\t1\t5\t8\t0\t0\n",
            "0\t1\t5\t8\t10\t0\n",
            "0\t1\t5\t8\t10\t13\n",
            "Selected Rod Pieces: C B\n",
            "Maximum Profit: 13\n"
          ]
        }
      ]
    },
    {
      "cell_type": "code",
      "source": [
        "import numpy as np\n",
        "\n",
        "def knapsack_01(items, capacity):\n",
        "    n = len(items)\n",
        "    dp = np.zeros((n + 1, capacity + 1), dtype=int)\n",
        "\n",
        "    for i in range(1, n + 1):\n",
        "        w, p, name = items[i - 1]\n",
        "        for c in range(1, capacity + 1):\n",
        "            dp[i][c] = dp[i - 1][c]\n",
        "            if w <= c:\n",
        "                dp[i][c] = max(dp[i][c], p + dp[i - 1][c - w])\n",
        "\n",
        "    # Print the DP table\n",
        "    print(\"\\nDP Table:\")\n",
        "    for row in dp:\n",
        "        print(\"\\t\".join(map(str, row)))\n",
        "\n",
        "    selected_items, c = [], capacity\n",
        "    for i in range(n, 0, -1):\n",
        "        if dp[i][c] != dp[i - 1][c]:\n",
        "            selected_items.append(items[i - 1][2])\n",
        "            c -= items[i - 1][0]\n",
        "\n",
        "    return selected_items, dp[n][capacity]\n",
        "\n",
        "items = [(3, 2, 'A'), (4, 3, 'B'), (5, 4, 'C'), (6, 1, 'D')]\n",
        "capacity = 8\n",
        "\n",
        "selected, max_profit = knapsack_01(items, capacity)\n",
        "print(\"Selected Items:\", selected)\n",
        "print(\"Maximum Profit:\", max_profit)\n"
      ],
      "metadata": {
        "colab": {
          "base_uri": "https://localhost:8080/"
        },
        "id": "-t9LqwQXYQZT",
        "outputId": "bc841edc-a5f2-4e57-8cad-51cc393e01c7"
      },
      "execution_count": null,
      "outputs": [
        {
          "output_type": "stream",
          "name": "stdout",
          "text": [
            "\n",
            "DP Table:\n",
            "0\t0\t0\t0\t0\t0\t0\t0\t0\n",
            "0\t0\t0\t2\t2\t2\t2\t2\t2\n",
            "0\t0\t0\t2\t3\t3\t3\t5\t5\n",
            "0\t0\t0\t2\t3\t4\t4\t5\t6\n",
            "0\t0\t0\t2\t3\t4\t4\t5\t6\n",
            "Selected Items: ['C', 'A']\n",
            "Maximum Profit: 6\n"
          ]
        }
      ]
    }
  ]
}